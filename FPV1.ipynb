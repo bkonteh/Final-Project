{
 "cells": [
  {
   "cell_type": "code",
   "execution_count": 3,
   "metadata": {},
   "outputs": [],
   "source": [
    "#Add in track title portion\n",
    "#What happens when entered value is wrong?\n",
    "#Allow lower case letters to be entered in as well\n",
    "\n",
    "import requests\n",
    "import pandas as pd\n",
    "\n",
    "album_list = []\n",
    "\n",
    "def get_albums(artist):\n",
    "    params = { 'term' : artist , 'entity' : 'album', 'explicit' : 'Yes', 'attribute' : 'artistTerm'} \n",
    "    response = requests.get('https://itunes.apple.com/search', params = params) \n",
    "    albumdata = response.json()\n",
    "    for r in albumdata['results']: \n",
    "        if \"- Single\" in r['collectionName']: \n",
    "            pass \n",
    "        elif artist not in r['artistName']: \n",
    "            pass \n",
    "        elif r['collectionName'] not in album_list:\n",
    "            album_list.append(r['collectionName']) \n",
    "            print(r['collectionName']) \n",
    "            "
   ]
  },
  {
   "cell_type": "code",
   "execution_count": null,
   "metadata": {},
   "outputs": [],
   "source": []
  }
 ],
 "metadata": {
  "kernelspec": {
   "display_name": "Python 3",
   "language": "python",
   "name": "python3"
  },
  "language_info": {
   "codemirror_mode": {
    "name": "ipython",
    "version": 3
   },
   "file_extension": ".py",
   "mimetype": "text/x-python",
   "name": "python",
   "nbconvert_exporter": "python",
   "pygments_lexer": "ipython3",
   "version": "3.6.6"
  }
 },
 "nbformat": 4,
 "nbformat_minor": 2
}
