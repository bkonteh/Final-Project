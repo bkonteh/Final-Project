{
 "cells": [
  {
   "cell_type": "code",
   "execution_count": null,
   "metadata": {},
   "outputs": [],
   "source": [
    "#Allow lower case letters to be entered in as well\n",
    "\n",
    "import requests\n",
    "import pandas as pd\n",
    "\n",
    "album_list = [] #Useful Later On\n",
    "\n",
    "def get_albums(artist):\n",
    "    params = { 'term' : artist , 'entity' : 'album', 'explicit' : 'Yes', 'attribute' : 'artistTerm'} #Provides specifics including the artist term and whether the song is clean or not\n",
    "    response = requests.get('https://itunes.apple.com/search', params = params) \n",
    "    albumdata = response.json()\n",
    "    for r in albumdata['results']: #Searches for all options in iTunes data\n",
    "        if \"- Single\" in r['collectionName']: #Does not allow releases made as singles to appear\n",
    "            pass #Avoid Singles\n",
    "        elif artist not in r['artistName']: #This will remove any information that does not focus on the artist inputted\n",
    "            pass #Avoid unnessary and unrelated artists and information\n",
    "        elif r['collectionName'] not in album_list: #This will not allow any duplicates to appear\n",
    "            album_list.append(r['collectionName']) #Append (1,2,3[4,5]) or add items to the list\n",
    "            print(r['collectionName']) #List the artists work\n",
    "\n",
    "\n",
    "def get_tracks(album):\n",
    "    params = { 'term' : album , 'entity' : 'musicTrack', } #Deeper search for more tracks in the artists' discography\n",
    "    response = requests.get('https://itunes.apple.com/search', params = params) \n",
    "    trackdata = response.json()\n",
    "    tracks = trackdata['results']\n",
    "    return tracks\n",
    "\n",
    "while True:\n",
    "    artist = input('Enter Your Favorite Artist Here or Enter \"Q\" to Quit: ').title() #Enter an artist of choice\n",
    "    if artist == 'Q': #Quit option added\n",
    "        break\n",
    "    else:\n",
    "        get_albums(artist) #gathers albums based on the specific artist that was entered\n",
    "        break\n",
    "while True:\n",
    "    album = input('Enter One of the Albums Listed Above or Enter \"Q\" to Quit: ').title() #This will start a depper search for the track listing of the artists album entered from the list above\n",
    "    if album == \"Q\":\n",
    "        del album_list[:] #Clear list for future use\n",
    "        break\n",
    "    elif album not in album_list:\n",
    "        print('That is not on the list! TRY AGAIN!') #Will be outputted if wrong information is entered\n",
    "    else:\n",
    "        tracks = get_tracks(album) # Searches for tracks\n",
    "        break\n",
    "print((\"This is the Tracklist for %s's Album %s\")%(artist, album))\n",
    "trackframe = pd.DataFrame(tracks) #Organizes data into chart\n",
    "frame = trackframe[['trackName','trackNumber','trackExplicitness']][trackframe['artistName'] == artist] #Prints data and splits them in lists\n",
    "new = frame.drop_duplicates(subset=[\"trackName\"]) #Gets rid of any possible duplicate data\n",
    "new.sort_values(by='trackNumber', ascending=100) #Sorts the Dataframe by the track num"
   ]
  },
  {
   "cell_type": "code",
   "execution_count": null,
   "metadata": {},
   "outputs": [],
   "source": []
  },
  {
   "cell_type": "code",
   "execution_count": null,
   "metadata": {},
   "outputs": [],
   "source": []
  }
 ],
 "metadata": {
  "kernelspec": {
   "display_name": "Python 3",
   "language": "python",
   "name": "python3"
  },
  "language_info": {
   "codemirror_mode": {
    "name": "ipython",
    "version": 3
   },
   "file_extension": ".py",
   "mimetype": "text/x-python",
   "name": "python",
   "nbconvert_exporter": "python",
   "pygments_lexer": "ipython3",
   "version": "3.6.6"
  }
 },
 "nbformat": 4,
 "nbformat_minor": 2
}
