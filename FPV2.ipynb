{
 "cells": [
  {
   "cell_type": "code",
   "execution_count": null,
   "metadata": {},
   "outputs": [],
   "source": [
    "#Add in track title portion\n",
    "#What happens when entered value is wrong?\n",
    "#Allow lower case letters to be entered in as well (solve the error)\n",
    "#Work on whats printed in terms of chart data to showcase the track listings\n",
    "#Maybe add feature for whether its clean or explicit\n",
    "#ADD DESCRIPTIONS TO THE CODE AS WELL\n",
    "\n",
    "import requests\n",
    "import pandas as pd\n",
    "\n",
    "album_list = []\n",
    "\n",
    "def get_albums(artist):\n",
    "    params = { 'term' : artist , 'entity' : 'album', 'explicit' : 'Yes', 'attribute' : 'artistTerm'} \n",
    "    response = requests.get('https://itunes.apple.com/search', params = params) \n",
    "    albumdata = response.json()\n",
    "    for r in albumdata['results']: \n",
    "        if \"- Single\" in r['collectionName']: \n",
    "            pass \n",
    "        elif artist not in r['artistName']: \n",
    "            pass \n",
    "        elif r['collectionName'] not in album_list:\n",
    "            album_list.append(r['collectionName']) \n",
    "            print(r['collectionName']) \n",
    "            \n",
    "def get_tracks(album):\n",
    "    params = { 'term' : album , 'entity' : 'musicTrack', } \n",
    "    response = requests.get('https://itunes.apple.com/search', params = params) \n",
    "    trackdata = response.json()\n",
    "    tracks = trackdata['results']\n",
    "    return tracks\n",
    "\n",
    "while True:\n",
    "    artist = input('Enter Artist \"Q\" to Quit: ').title() \n",
    "    if artist == 'Q': \n",
    "        break\n",
    "    else:\n",
    "        get_albums(artist) \n",
    "        break\n",
    "while True:\n",
    "    album = input('Enter Album \"Q\" to Quit: ').title() \n",
    "    if album == \"Q\":\n",
    "        del album_list[:] \n",
    "        break\n",
    "    elif album not in album_list:\n",
    "        print('WRONG INPUT!!') \n",
    "    else:\n",
    "        tracks = get_tracks(album)\n",
    "        break"
   ]
  }
 ],
 "metadata": {
  "kernelspec": {
   "display_name": "Python 3",
   "language": "python",
   "name": "python3"
  },
  "language_info": {
   "codemirror_mode": {
    "name": "ipython",
    "version": 3
   },
   "file_extension": ".py",
   "mimetype": "text/x-python",
   "name": "python",
   "nbconvert_exporter": "python",
   "pygments_lexer": "ipython3",
   "version": "3.6.6"
  }
 },
 "nbformat": 4,
 "nbformat_minor": 2
}
